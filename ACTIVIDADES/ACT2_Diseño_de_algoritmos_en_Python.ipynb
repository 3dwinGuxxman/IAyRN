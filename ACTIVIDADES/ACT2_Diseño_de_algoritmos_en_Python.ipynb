{
  "nbformat": 4,
  "nbformat_minor": 0,
  "metadata": {
    "colab": {
      "provenance": [],
      "authorship_tag": "ABX9TyOTsBWbNTR06tbvuiBjYwFQ",
      "include_colab_link": true
    },
    "kernelspec": {
      "name": "python3",
      "display_name": "Python 3"
    },
    "language_info": {
      "name": "python"
    }
  },
  "cells": [
    {
      "cell_type": "markdown",
      "metadata": {
        "id": "view-in-github",
        "colab_type": "text"
      },
      "source": [
        "<a href=\"https://colab.research.google.com/github/3dwinGuxxman/IAyRN/blob/main/ACT2_Dise%C3%B1o_de_algoritmos_en_Python.ipynb\" target=\"_parent\"><img src=\"https://colab.research.google.com/assets/colab-badge.svg\" alt=\"Open In Colab\"/></a>"
      ]
    },
    {
      "cell_type": "code",
      "execution_count": null,
      "metadata": {
        "id": "vM2EkN9YFeoZ"
      },
      "outputs": [],
      "source": [
        "Diseño de algoritmos en Python. Edwin Osbaldo Sanchez Guzman. 1966611. N4."
      ]
    },
    {
      "cell_type": "code",
      "source": [
        "#EJERCICIO 1\n",
        "nombre = input(\"Por favor, ingresa tu nombre: \")\n",
        "if nombre in [\"Ana\", \"Juan\", \"Pedro\"]:\n",
        "    print(\"Hola, amigo.\")\n",
        "else:\n",
        "    print(f\"Hola, {nombre}!\")\n"
      ],
      "metadata": {
        "colab": {
          "base_uri": "https://localhost:8080/"
        },
        "id": "PBPKZGrOF4gE",
        "outputId": "caec1d3e-8f18-4231-a286-e24fb054b4c7"
      },
      "execution_count": null,
      "outputs": [
        {
          "output_type": "stream",
          "name": "stdout",
          "text": [
            "Por favor, ingresa tu nombre: Edwin\n",
            "Hola, Edwin!\n"
          ]
        }
      ]
    },
    {
      "cell_type": "code",
      "source": [
        "#EJERCICIO 2\n",
        "def invertir_lista(lista):\n",
        "    return lista[::-1]\n",
        "N = int(input(\"Ingresa la cantidad de elementos en la lista: \"))\n",
        "lista_usuario = []\n",
        "for i in range(N):\n",
        "    elemento = input(f\"Ingresa el elemento {i + 1}: \")\n",
        "    lista_usuario.append(elemento)\n",
        "lista_invertida = invertir_lista(lista_usuario)\n",
        "3\n",
        "print(\"Lista invertida:\", lista_invertida)\n",
        "\n"
      ],
      "metadata": {
        "colab": {
          "base_uri": "https://localhost:8080/"
        },
        "id": "LuWUkP8AJpKo",
        "outputId": "a7e2824d-08ad-4742-9a5e-72ceb5253abd"
      },
      "execution_count": null,
      "outputs": [
        {
          "output_type": "stream",
          "name": "stdout",
          "text": [
            "Ingresa la cantidad de elementos en la lista: 4\n",
            "Ingresa el elemento 1: PEPINO \n",
            "Ingresa el elemento 2: MANZANA\n",
            "Ingresa el elemento 3: NARANJA\n",
            "Ingresa el elemento 4: CHILE\n",
            "Lista invertida: ['CHILE', 'NARANJA', 'MANZANA', 'PEPINO ']\n"
          ]
        }
      ]
    },
    {
      "cell_type": "code",
      "source": [
        "#EJERCICIO 3\n",
        "def generar_fibonacci(n):\n",
        "    fibonacci = [0, 1]\n",
        "    for i in range(2, n):\n",
        "        fibonacci.append(fibonacci[i-1] + fibonacci[i-2])\n",
        "    return fibonacci\n",
        "n = int(input(\"Ingrese la cantidad de números de la serie de Fibonacci que desea generar: \"))\n",
        "if n <= 0:\n",
        "    print(\"Por favor, ingrese un número positivo.\")\n",
        "else:\n",
        "    serie_fibonacci = generar_fibonacci(n)\n",
        "    print(f\"Serie de Fibonacci con {n} números: {serie_fibonacci}\")\n"
      ],
      "metadata": {
        "colab": {
          "base_uri": "https://localhost:8080/"
        },
        "id": "Mo15Hf5FkuPh",
        "outputId": "896a42e3-7abd-49c7-8a2e-e3b9210ec1b3"
      },
      "execution_count": null,
      "outputs": [
        {
          "output_type": "stream",
          "name": "stdout",
          "text": [
            "Ingrese la cantidad de números de la serie de Fibonacci que desea generar: 10\n",
            "Serie de Fibonacci con 10 números: [0, 1, 1, 2, 3, 5, 8, 13, 21, 34]\n"
          ]
        }
      ]
    },
    {
      "cell_type": "code",
      "source": [
        "#EJERCICIO 4\n",
        "import random\n",
        "def juego_adivina_numero():\n",
        "    numero_objetivo = random.randint(1, 2)\n",
        "\n",
        "    intentos = 0\n",
        "\n",
        "    print(\"¡Bienvenido al juego de adivinar el número!\")\n",
        "    while True:\n",
        "\n",
        "        intento_usuario = int(input(\"Ingresa tu número: \"))\n",
        "\n",
        "        intentos += 1\n",
        "\n",
        "        if intento_usuario == numero_objetivo:\n",
        "            print(f\"¡Felicidades! Adivinaste el número {numero_objetivo} en {intentos} intentos.\")\n",
        "            break\n",
        "        elif intento_usuario < numero_objetivo:\n",
        "            print(\"El número es mayor. Intenta nuevamente.\")\n",
        "        else:\n",
        "            print(\"El número es menor. Intenta nuevamente.\")\n",
        "juego_adivina_numero()\n",
        "3"
      ],
      "metadata": {
        "colab": {
          "base_uri": "https://localhost:8080/"
        },
        "id": "9gyTRPGSnYef",
        "outputId": "9a3b2ba1-03ac-4d3f-cd6e-05304651c6a9"
      },
      "execution_count": null,
      "outputs": [
        {
          "output_type": "stream",
          "name": "stdout",
          "text": [
            "¡Bienvenido al juego de adivinar el número!\n",
            "Ingresa tu número: 1\n",
            "¡Felicidades! Adivinaste el número 1 en 1 intentos.\n"
          ]
        },
        {
          "output_type": "execute_result",
          "data": {
            "text/plain": [
              "3"
            ]
          },
          "metadata": {},
          "execution_count": 7
        }
      ]
    },
    {
      "cell_type": "code",
      "source": [
        "#EJERCICIO 5\n",
        "def es_primo(numero):\n",
        "    if numero < 2:\n",
        "        return False\n",
        "    for i in range(2, int(numero**0.5) + 1):\n",
        "        if numero % i == 0:\n",
        "            return False\n",
        "    return True\n",
        "\n",
        "def numeros_primos_en_rango(inicio, fin):\n",
        "    primos = [num for num in range(inicio, fin + 1) if es_primo(num)]\n",
        "    return primos\n",
        "\n",
        "inicio = int(input(\"Ingrese el inicio del rango: \"))\n",
        "fin = int(input(\"Ingrese el fin del rango: \"))\n",
        "\n",
        "if inicio >= fin:\n",
        "    print(\"Por favor, ingrese un rango válido (inicio menor que fin).\")\n",
        "else:\n",
        "    primos_en_rango = numeros_primos_en_rango(inicio, fin)\n",
        "    print(f\"Números primos en el rango {inicio} a {fin}: {primos_en_rango}\")\n"
      ],
      "metadata": {
        "id": "AcduRrBApDfL",
        "colab": {
          "base_uri": "https://localhost:8080/"
        },
        "outputId": "ad30b0ed-1756-454a-c035-3681acbd6deb"
      },
      "execution_count": 1,
      "outputs": [
        {
          "output_type": "stream",
          "name": "stdout",
          "text": [
            "Ingrese el inicio del rango: 1\n",
            "Ingrese el fin del rango: 8\n",
            "Números primos en el rango 1 a 8: [2, 3, 5, 7]\n"
          ]
        }
      ]
    },
    {
      "cell_type": "code",
      "source": [
        "#EJERCICIO 6\n",
        "def suma(a, b):\n",
        "    return a + b\n",
        "\n",
        "def resta(a, b):\n",
        "    return a - b\n",
        "\n",
        "def multiplicacion(a, b):\n",
        "    return a * b\n",
        "\n",
        "def division(a, b):\n",
        "    if b == 0:\n",
        "        return \"Error: No se puede dividir por cero.\"\n",
        "    else:\n",
        "        return a / b\n",
        "\n",
        "num1 = float(input(\"Ingrese el primer número: \"))\n",
        "num2 = float(input(\"Ingrese el segundo número: \"))\n",
        "\n",
        "print(f\"Suma: {suma(num1, num2)}\")\n",
        "print(f\"Resta: {resta(num1, num2)}\")\n",
        "print(f\"Multiplicación: {multiplicacion(num1, num2)}\")\n",
        "print(f\"División: {division(num1, num2)}\")\n"
      ],
      "metadata": {
        "id": "50qo5gmGpnme",
        "colab": {
          "base_uri": "https://localhost:8080/"
        },
        "outputId": "30e76ce1-d0a0-45c4-e13a-bc1e964891d0"
      },
      "execution_count": 2,
      "outputs": [
        {
          "output_type": "stream",
          "name": "stdout",
          "text": [
            "Ingrese el primer número: 5\n",
            "Ingrese el segundo número: 6\n",
            "Suma: 11.0\n",
            "Resta: -1.0\n",
            "Multiplicación: 30.0\n",
            "División: 0.8333333333333334\n"
          ]
        }
      ]
    }
  ]
}