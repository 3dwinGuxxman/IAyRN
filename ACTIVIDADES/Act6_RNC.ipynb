{
  "nbformat": 4,
  "nbformat_minor": 0,
  "metadata": {
    "colab": {
      "provenance": []
    },
    "kernelspec": {
      "name": "python3",
      "display_name": "Python 3"
    },
    "language_info": {
      "name": "python"
    }
  },
  "cells": [
    {
      "cell_type": "code",
      "source": [
        "#librerías\n",
        "import tensorflow as tf\n",
        "from tensorflow.keras.datasets import mnist\n",
        "from tensorflow.keras.models import Sequential\n",
        "from tensorflow.keras.layers import Conv2D, MaxPooling2D, Flatten, Dense\n",
        "from tensorflow.keras.utils import to_categorical\n",
        "import matplotlib.pyplot as plt\n",
        "import numpy as np\n"
      ],
      "metadata": {
        "id": "Sr1N2D5D73jI"
      },
      "execution_count": 2,
      "outputs": []
    },
    {
      "cell_type": "code",
      "source": [
        "#datos de MNIST\n",
        "(train_data, train_labels), (test_data, test_labels) = mnist.load_data()\n"
      ],
      "metadata": {
        "id": "vU2rDl7073wU"
      },
      "execution_count": 3,
      "outputs": []
    },
    {
      "cell_type": "code",
      "source": [
        "# Preprocesamiento de datos\n",
        "train_data = train_data.reshape((train_data.shape[0], 28, 28, 1)).astype('float32') / 255\n",
        "test_data = test_data.reshape((test_data.shape[0], 28, 28, 1)).astype('float32') / 255\n"
      ],
      "metadata": {
        "id": "ka9Hcx9m8IVE"
      },
      "execution_count": 4,
      "outputs": []
    },
    {
      "cell_type": "code",
      "source": [
        "train_labels = to_categorical(train_labels)\n",
        "test_labels = to_categorical(test_labels)\n"
      ],
      "metadata": {
        "id": "W27SLnYP8IiA"
      },
      "execution_count": 5,
      "outputs": []
    },
    {
      "cell_type": "code",
      "source": [
        "# Construir el modelo de la CNN\n",
        "model = Sequential()\n",
        "model.add(Conv2D(32, (3, 3), activation='relu', input_shape=(28, 28, 1)))\n",
        "model.add(MaxPooling2D((2, 2)))\n",
        "model.add(Conv2D(64, (3, 3), activation='relu'))\n",
        "model.add(MaxPooling2D((2, 2)))\n",
        "model.add(Flatten())\n",
        "model.add(Dense(128, activation='relu'))\n",
        "model.add(Dense(10, activation='softmax'))\n"
      ],
      "metadata": {
        "id": "TxIVF0Bi8TY-"
      },
      "execution_count": 6,
      "outputs": []
    },
    {
      "cell_type": "code",
      "source": [
        "# Compilar el modelo\n",
        "model.compile(optimizer='adam', loss='categorical_crossentropy', metrics=['accuracy'])\n"
      ],
      "metadata": {
        "id": "avsOI_i88Th7"
      },
      "execution_count": 7,
      "outputs": []
    },
    {
      "cell_type": "code",
      "source": [
        "# Entrenar el modelo\n",
        "epochs = 10\n",
        "history = model.fit(train_data, train_labels, epochs=epochs, batch_size=64, validation_split=0.2)\n"
      ],
      "metadata": {
        "colab": {
          "base_uri": "https://localhost:8080/"
        },
        "id": "jEzwL9Ol8T6p",
        "outputId": "5c76b2a9-3a10-4ef0-cc53-4330c8d60611"
      },
      "execution_count": 8,
      "outputs": [
        {
          "output_type": "stream",
          "name": "stdout",
          "text": [
            "Epoch 1/10\n",
            "750/750 [==============================] - 45s 59ms/step - loss: 0.1848 - accuracy: 0.9470 - val_loss: 0.0591 - val_accuracy: 0.9833\n",
            "Epoch 2/10\n",
            "750/750 [==============================] - 43s 58ms/step - loss: 0.0516 - accuracy: 0.9841 - val_loss: 0.0531 - val_accuracy: 0.9847\n",
            "Epoch 3/10\n",
            "750/750 [==============================] - 41s 55ms/step - loss: 0.0349 - accuracy: 0.9889 - val_loss: 0.0457 - val_accuracy: 0.9871\n",
            "Epoch 4/10\n",
            "750/750 [==============================] - 42s 56ms/step - loss: 0.0271 - accuracy: 0.9914 - val_loss: 0.0362 - val_accuracy: 0.9892\n",
            "Epoch 5/10\n",
            "750/750 [==============================] - 42s 55ms/step - loss: 0.0202 - accuracy: 0.9938 - val_loss: 0.0456 - val_accuracy: 0.9872\n",
            "Epoch 6/10\n",
            "750/750 [==============================] - 41s 55ms/step - loss: 0.0151 - accuracy: 0.9949 - val_loss: 0.0388 - val_accuracy: 0.9892\n",
            "Epoch 7/10\n",
            "750/750 [==============================] - 40s 53ms/step - loss: 0.0111 - accuracy: 0.9964 - val_loss: 0.0486 - val_accuracy: 0.9872\n",
            "Epoch 8/10\n",
            "750/750 [==============================] - 43s 57ms/step - loss: 0.0109 - accuracy: 0.9966 - val_loss: 0.0413 - val_accuracy: 0.9896\n",
            "Epoch 9/10\n",
            "750/750 [==============================] - 40s 53ms/step - loss: 0.0081 - accuracy: 0.9973 - val_loss: 0.0589 - val_accuracy: 0.9869\n",
            "Epoch 10/10\n",
            "750/750 [==============================] - 39s 52ms/step - loss: 0.0075 - accuracy: 0.9972 - val_loss: 0.0572 - val_accuracy: 0.9874\n"
          ]
        }
      ]
    },
    {
      "cell_type": "code",
      "source": [
        "# Evaluar el modelo con el conjunto de prueba\n",
        "test_loss, test_acc = model.evaluate(test_data, test_labels)\n",
        "print(f\"Exactitud en el conjunto de prueba: {test_acc}\")\n"
      ],
      "metadata": {
        "colab": {
          "base_uri": "https://localhost:8080/"
        },
        "id": "PWTj0xxr-ODY",
        "outputId": "614a72af-231b-4f20-ea82-315abe0f268f"
      },
      "execution_count": 9,
      "outputs": [
        {
          "output_type": "stream",
          "name": "stdout",
          "text": [
            "313/313 [==============================] - 3s 8ms/step - loss: 0.0430 - accuracy: 0.9893\n",
            "Exactitud en el conjunto de prueba: 0.989300012588501\n"
          ]
        }
      ]
    },
    {
      "cell_type": "code",
      "source": [
        "# 5 predicciones\n",
        "for i in range(7):\n",
        "    random_idx = np.random.randint(0, test_data.shape[0])\n",
        "    sample = test_data[random_idx]\n",
        "    sample_label = test_labels[random_idx]\n",
        "    prediction = np.argmax(model.predict(sample.reshape(1, 28, 28, 1)))\n",
        "    true_label = np.argmax(sample_label)\n",
        "\n",
        "    plt.figure(figsize=(2, 2))\n",
        "    plt.imshow(sample.reshape(28, 28), cmap='gray')\n",
        "    plt.title(f\"Predicción: {prediction}, Valor real: {true_label}\")\n",
        "    plt.axis('off')\n",
        "    plt.show()\n"
      ],
      "metadata": {
        "colab": {
          "base_uri": "https://localhost:8080/",
          "height": 1000
        },
        "id": "xtIhcNjE-QFn",
        "outputId": "8f3b9e19-bd35-44e9-9118-9ad581d98a3b"
      },
      "execution_count": 11,
      "outputs": [
        {
          "output_type": "stream",
          "name": "stdout",
          "text": [
            "1/1 [==============================] - 0s 22ms/step\n"
          ]
        },
        {
          "output_type": "display_data",
          "data": {
            "text/plain": [
              "<Figure size 200x200 with 1 Axes>"
            ],
            "image/png": "[encoded data removed]"
          },
          "metadata": {}
        },
        {
          "output_type": "stream",
          "name": "stdout",
          "text": [
            "1/1 [==============================] - 0s 32ms/step\n"
          ]
        },
        {
          "output_type": "display_data",
          "data": {
            "text/plain": [
              "<Figure size 200x200 with 1 Axes>"
            ],
            "image/png": "[encoded data removed]"
          },
          "metadata": {}
        },
        {
          "output_type": "stream",
          "name": "stdout",
          "text": [
            "1/1 [==============================] - 0s 26ms/step\n"
          ]
        },
        {
          "output_type": "display_data",
          "data": {
            "text/plain": [
              "<Figure size 200x200 with 1 Axes>"
            ],
            "image/png": "[encoded data removed]"
          },
          "metadata": {}
        },
        {
          "output_type": "stream",
          "name": "stdout",
          "text": [
            "1/1 [==============================] - 0s 76ms/step\n"
          ]
        },
        {
          "output_type": "display_data",
          "data": {
            "text/plain": [
              "<Figure size 200x200 with 1 Axes>"
            ],
            "image/png": "[encoded data removed]"
          },
          "metadata": {}
        },
        {
          "output_type": "stream",
          "name": "stdout",
          "text": [
            "1/1 [==============================] - 0s 40ms/step\n"
          ]
        },
        {
          "output_type": "display_data",
          "data": {
            "text/plain": [
              "<Figure size 200x200 with 1 Axes>"
            ],
            "image/png": "[encoded data removed]"
          },
          "metadata": {}
        },
        {
          "output_type": "stream",
          "name": "stdout",
          "text": [
            "1/1 [==============================] - 0s 44ms/step\n"
          ]
        },
        {
          "output_type": "display_data",
          "data": {
            "text/plain": [
              "<Figure size 200x200 with 1 Axes>"
            ],
            "image/png": "[encoded data removed]"
          },
          "metadata": {}
        },
        {
          "output_type": "stream",
          "name": "stdout",
          "text": [
            "1/1 [==============================] - 0s 39ms/step\n"
          ]
        },
        {
          "output_type": "display_data",
          "data": {
            "text/plain": [
              "<Figure size 200x200 with 1 Axes>"
            ],
            "image/png": "[encoded data removed]"
          },
          "metadata": {}
        }
      ]
    }
  ]
}